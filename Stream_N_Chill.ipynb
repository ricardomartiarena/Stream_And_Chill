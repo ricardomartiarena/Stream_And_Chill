{
 "cells": [
  {
   "cell_type": "markdown",
   "id": "d54df6d9",
   "metadata": {},
   "source": [
    "# Stream & Chill: Finding the Best Date Night 'Background' Movie "
   ]
  },
  {
   "cell_type": "markdown",
   "id": "f8e7f8b2",
   "metadata": {},
   "source": [
    "This notebook pulls movie detail information using the **TMDB.com API** found at (https://www.themoviedb.org/). Using that info, it generates a score for each movie based on how well that movie will fair as a 'background' movie to watch on a date. Using information provided by JustWatch, we can also figure out what streaming services these movies are available on. All this information on the movies and streaming availability is saved onto dataframes and connected to a Postgres database.\n",
    "\n",
    "This is broken into six parts:\n",
    "> 1. Create movies dataframe\n",
    "2. Generate a 'sexiness score' for each movie\n",
    "3. Create streaming availability dataframe\n",
    "4. Create a genre dataframe\n",
    "5. Clean the movie info dataframe\n",
    "6. Connect and send dataframes to postgres database\n",
    "\n",
    "\n",
    "**Limitations:** TMDB API limits the number of movies you can pull information for and requires an individual API call to get details for each movie."
   ]
  },
  {
   "cell_type": "code",
   "execution_count": 1,
   "id": "f3a0952c",
   "metadata": {},
   "outputs": [],
   "source": [
    "#import libraries\n",
    "import pandas as pd\n",
    "import json\n",
    "import requests\n",
    "import concurrent.futures as cf\n",
    "import psycopg2\n",
    "from sqlalchemy import create_engine"
   ]
  },
  {
   "cell_type": "markdown",
   "id": "ca656c8f",
   "metadata": {},
   "source": [
    "## 1. Create Movies Dataframe:"
   ]
  },
  {
   "cell_type": "code",
   "execution_count": 2,
   "id": "11a16cbd",
   "metadata": {},
   "outputs": [],
   "source": [
    "#set number of movies you want to pull\n",
    "num_movies = 10000 # min 20; max 10,000; must be multiples of 20\n",
    "num_pages = int(round(num_movies/20,0))"
   ]
  },
  {
   "cell_type": "code",
   "execution_count": 3,
   "id": "1cd52666",
   "metadata": {},
   "outputs": [],
   "source": [
    "#tmdb api authkey\n",
    "auth_key = \"\""
   ]
  },
  {
   "cell_type": "code",
   "execution_count": 4,
   "id": "f54f4136",
   "metadata": {
    "scrolled": true
   },
   "outputs": [],
   "source": [
    "#create list of top most popular movies\n",
    "movie_ids = []\n",
    "def get_movie_ids(page_number):\n",
    "\n",
    "    url = \"https://api.themoviedb.org/3/movie/popular?language=en-US&page=\" + str(page_number)\n",
    "    headers = {\n",
    "        \"accept\": \"application/json\",\n",
    "        \"Authorization\": auth_key\n",
    "    }\n",
    "\n",
    "    popular_movies = requests.get(url, headers=headers).json()['results']\n",
    "    \n",
    "    for i in range(len(popular_movies)):\n",
    "        movie_ids.append(popular_movies[i]['id'])"
   ]
  },
  {
   "cell_type": "code",
   "execution_count": 5,
   "id": "8eb7e4bf",
   "metadata": {
    "scrolled": true
   },
   "outputs": [
    {
     "name": "stdout",
     "output_type": "stream",
     "text": [
      "8305 movies successfully stored in list!\n",
      "CPU times: user 8.19 s, sys: 1.57 s, total: 9.77 s\n",
      "Wall time: 9.44 s\n"
     ]
    }
   ],
   "source": [
    "%%time\n",
    "#create a list of the movie id's \n",
    "#makes multiple API calls concurrently \n",
    "with cf.ThreadPoolExecutor() as executor:\n",
    "    executor.map(get_movie_ids, range(1,num_pages+1))\n",
    "movie_ids = list(dict.fromkeys(movie_ids))\n",
    "print(len(movie_ids), \"movies successfully stored in list!\")"
   ]
  },
  {
   "cell_type": "code",
   "execution_count": 6,
   "id": "7b9066a1",
   "metadata": {},
   "outputs": [],
   "source": [
    "#get a movie details function\n",
    "popular_movies_list = []\n",
    "def get_movie_details(movie_id):\n",
    "    url = \"https://api.themoviedb.org/3/movie/\" + str(movie_id) + \"?append_to_response=watch%2Fproviders&language=en-US\"\n",
    "\n",
    "    headers = {\n",
    "        \"accept\": \"application/json\",\n",
    "        \"Authorization\": auth_key\n",
    "    }\n",
    "\n",
    "\n",
    "    popular_movies = requests.get(url, headers=headers).json()\n",
    "    popular_movies_list.append(popular_movies)"
   ]
  },
  {
   "cell_type": "code",
   "execution_count": 7,
   "id": "312034de",
   "metadata": {
    "scrolled": true
   },
   "outputs": [
    {
     "name": "stdout",
     "output_type": "stream",
     "text": [
      "CPU times: user 2min 22s, sys: 25 s, total: 2min 47s\n",
      "Wall time: 2min 41s\n"
     ]
    }
   ],
   "source": [
    "%%time\n",
    "#create a dataframe with all movies' details\n",
    "with cf.ThreadPoolExecutor() as executor:\n",
    "    executor.map(get_movie_details, movie_ids)"
   ]
  },
  {
   "cell_type": "code",
   "execution_count": 8,
   "id": "dd15a182",
   "metadata": {},
   "outputs": [],
   "source": [
    "#convert list to dataframe\n",
    "all_movies_df = None\n",
    "all_movies_df = pd.DataFrame(popular_movies_list)\n",
    "all_movies_df.rename(columns={'id':'movie_id', 'watch/providers': 'watch_providers'}, inplace= True)"
   ]
  },
  {
   "cell_type": "markdown",
   "id": "af9f3aa1",
   "metadata": {},
   "source": [
    "## 2. Generate a 'Sexiness Score' for Each Movie:\n",
    "The score on how well the movie would work for mostly 'background' noise is based on a few criteria:\n",
    " > - **10% relevancy**: Movie should be somewhat known, distracting if it is too new, which is why it has a small weight.\n",
    " > - **50% runtime**: Optimal length to leave enough time for all activities is 140 min (2hr 20min). If movie is too short it will cause users to stop their date to find another. Movie should ideally finish as users are wrapping up their date activities.\n",
    " > - **50% Boring-ness**: A really bad movie will force user to change movie. A really good movie could be distraction. Ideal score is 7/10; enough to capture attention at first, but not interesting enough to capture too much of user attention."
   ]
  },
  {
   "cell_type": "code",
   "execution_count": 9,
   "id": "acc3db3e",
   "metadata": {},
   "outputs": [
    {
     "name": "stdout",
     "output_type": "stream",
     "text": [
      "CPU times: user 8.46 s, sys: 72.4 ms, total: 8.53 s\n",
      "Wall time: 8.82 s\n"
     ]
    }
   ],
   "source": [
    "%%time\n",
    "# generate sexiness score and add it as a column to the dataframe\n",
    "sexiness_score_list = []\n",
    "for movie_id in all_movies_df['movie_id']:\n",
    "    relevancy = all_movies_df[all_movies_df['movie_id'] == movie_id]['popularity'].values[0]/10000\n",
    "\n",
    "    runtime_score = (1 - abs(all_movies_df[all_movies_df['movie_id'] == movie_id]['runtime'].values[0]-140)/100)\n",
    "    if runtime_score <= 0:\n",
    "        runtime_score = 0\n",
    "    vote_average = all_movies_df[all_movies_df['movie_id'] == movie_id]['vote_average'].values[0]\n",
    "    if vote_average >= 7.5:\n",
    "        uninteresting_score = 1 - (vote_average-7.5)/5\n",
    "    else:\n",
    "        uninteresting_score = pow(1.8,(vote_average - 7.5))\n",
    "\n",
    "    sexiness_score = (0.1 * relevancy) + (0.5 * runtime_score) + (0.4 * uninteresting_score)\n",
    "\n",
    "    sexiness_score_list.append(sexiness_score)\n",
    "    \n",
    "all_movies_df['sexiness_score'] = sexiness_score_list"
   ]
  },
  {
   "cell_type": "code",
   "execution_count": 10,
   "id": "ccd41fd3",
   "metadata": {},
   "outputs": [],
   "source": [
    "#create a top streaming providers list\n",
    "streaming_provider_ids = pd.read_csv(\"streaming_provider_ids.csv\")\n",
    "top_providers_list = streaming_provider_ids['streaming_provider'].tolist()"
   ]
  },
  {
   "cell_type": "markdown",
   "id": "b9559920",
   "metadata": {},
   "source": [
    "## 3. Create Streaming Availability Dataframe:\n",
    "\n",
    "#### Function will take the streaming availability column for a movie ID and turn it into its own dataframe:\n",
    "\n",
    "API returns heavily nested JSON text. Relevant information is found inside of several layers:\n",
    "\n",
    ">**Example:** to get the first listed streaming service for a movie in the U.S watch region will look as follows:\n",
    ">> api_response['results']['US']['flatrate'][0]['provider_name']\n",
    "\n",
    "_'Flatrate' means it is included in subscription service_"
   ]
  },
  {
   "cell_type": "code",
   "execution_count": 11,
   "id": "6116281e",
   "metadata": {},
   "outputs": [],
   "source": [
    "#function for getting streaming provider info per movie\n",
    "def get_providers(movie_id):\n",
    "    df = pd.DataFrame(columns=['movie_id','watch_region','streaming_provider'])\n",
    "    provider_list = {}\n",
    "    watch_info = all_movies_df[all_movies_df['movie_id'] == movie_id]['watch_providers'].tolist()[0]['results']\n",
    "    for country in watch_info:\n",
    "        try:\n",
    "            free_availability = watch_info[country]['flatrate']\n",
    "        except:\n",
    "            pass\n",
    "        else:\n",
    "            for provider in free_availability:\n",
    "                if provider['provider_name'] in top_providers_list:\n",
    "                    df2 = pd.DataFrame(data = [{'movie_id': movie_id, 'watch_region': country, 'streaming_provider': provider['provider_name']}])\n",
    "                    df = pd.concat([df, df2], ignore_index = True)\n",
    "    return df;"
   ]
  },
  {
   "cell_type": "code",
   "execution_count": 12,
   "id": "b9c8dacd",
   "metadata": {},
   "outputs": [
    {
     "name": "stdout",
     "output_type": "stream",
     "text": [
      "CPU times: user 2min 56s, sys: 4.62 s, total: 3min 1s\n",
      "Wall time: 3min 9s\n"
     ]
    },
    {
     "data": {
      "text/html": [
       "<div>\n",
       "<style scoped>\n",
       "    .dataframe tbody tr th:only-of-type {\n",
       "        vertical-align: middle;\n",
       "    }\n",
       "\n",
       "    .dataframe tbody tr th {\n",
       "        vertical-align: top;\n",
       "    }\n",
       "\n",
       "    .dataframe thead th {\n",
       "        text-align: right;\n",
       "    }\n",
       "</style>\n",
       "<table border=\"1\" class=\"dataframe\">\n",
       "  <thead>\n",
       "    <tr style=\"text-align: right;\">\n",
       "      <th></th>\n",
       "      <th>movie_id</th>\n",
       "      <th>watch_region</th>\n",
       "      <th>streaming_provider</th>\n",
       "    </tr>\n",
       "  </thead>\n",
       "  <tbody>\n",
       "    <tr>\n",
       "      <th>0</th>\n",
       "      <td>11036</td>\n",
       "      <td>AD</td>\n",
       "      <td>Netflix</td>\n",
       "    </tr>\n",
       "    <tr>\n",
       "      <th>1</th>\n",
       "      <td>11036</td>\n",
       "      <td>AD</td>\n",
       "      <td>Amazon Prime Video</td>\n",
       "    </tr>\n",
       "    <tr>\n",
       "      <th>2</th>\n",
       "      <td>11036</td>\n",
       "      <td>AG</td>\n",
       "      <td>Max</td>\n",
       "    </tr>\n",
       "    <tr>\n",
       "      <th>3</th>\n",
       "      <td>11036</td>\n",
       "      <td>AR</td>\n",
       "      <td>Max</td>\n",
       "    </tr>\n",
       "    <tr>\n",
       "      <th>4</th>\n",
       "      <td>11036</td>\n",
       "      <td>BA</td>\n",
       "      <td>Netflix</td>\n",
       "    </tr>\n",
       "    <tr>\n",
       "      <th>...</th>\n",
       "      <td>...</td>\n",
       "      <td>...</td>\n",
       "      <td>...</td>\n",
       "    </tr>\n",
       "    <tr>\n",
       "      <th>223612</th>\n",
       "      <td>34806</td>\n",
       "      <td>UY</td>\n",
       "      <td>Netflix</td>\n",
       "    </tr>\n",
       "    <tr>\n",
       "      <th>223613</th>\n",
       "      <td>34806</td>\n",
       "      <td>VE</td>\n",
       "      <td>Netflix</td>\n",
       "    </tr>\n",
       "    <tr>\n",
       "      <th>223614</th>\n",
       "      <td>34806</td>\n",
       "      <td>YE</td>\n",
       "      <td>Netflix</td>\n",
       "    </tr>\n",
       "    <tr>\n",
       "      <th>223615</th>\n",
       "      <td>34806</td>\n",
       "      <td>ZA</td>\n",
       "      <td>Netflix</td>\n",
       "    </tr>\n",
       "    <tr>\n",
       "      <th>223616</th>\n",
       "      <td>19185</td>\n",
       "      <td>JP</td>\n",
       "      <td>Netflix</td>\n",
       "    </tr>\n",
       "  </tbody>\n",
       "</table>\n",
       "<p>223617 rows × 3 columns</p>\n",
       "</div>"
      ],
      "text/plain": [
       "       movie_id watch_region  streaming_provider\n",
       "0         11036           AD             Netflix\n",
       "1         11036           AD  Amazon Prime Video\n",
       "2         11036           AG                 Max\n",
       "3         11036           AR                 Max\n",
       "4         11036           BA             Netflix\n",
       "...         ...          ...                 ...\n",
       "223612    34806           UY             Netflix\n",
       "223613    34806           VE             Netflix\n",
       "223614    34806           YE             Netflix\n",
       "223615    34806           ZA             Netflix\n",
       "223616    19185           JP             Netflix\n",
       "\n",
       "[223617 rows x 3 columns]"
      ]
     },
     "execution_count": 12,
     "metadata": {},
     "output_type": "execute_result"
    }
   ],
   "source": [
    "%%time\n",
    "#create streaming data frame\n",
    "streaming_df = pd.DataFrame(columns=['movie_id','watch_region','streaming_provider'])\n",
    "for movie_id in movie_ids:\n",
    "    streaming_df = pd.concat([streaming_df, get_providers(movie_id)], ignore_index = True)\n",
    "streaming_df"
   ]
  },
  {
   "cell_type": "markdown",
   "id": "10014d2e",
   "metadata": {},
   "source": [
    "## 4. Create a Genre Dataframe:\n",
    "\n",
    "Because a movie will fit into multiple genres, a separate dataframe will better present the genres of each movie."
   ]
  },
  {
   "cell_type": "code",
   "execution_count": 13,
   "id": "0f8f86f1",
   "metadata": {
    "scrolled": true
   },
   "outputs": [
    {
     "data": {
      "text/html": [
       "<div>\n",
       "<style scoped>\n",
       "    .dataframe tbody tr th:only-of-type {\n",
       "        vertical-align: middle;\n",
       "    }\n",
       "\n",
       "    .dataframe tbody tr th {\n",
       "        vertical-align: top;\n",
       "    }\n",
       "\n",
       "    .dataframe thead th {\n",
       "        text-align: right;\n",
       "    }\n",
       "</style>\n",
       "<table border=\"1\" class=\"dataframe\">\n",
       "  <thead>\n",
       "    <tr style=\"text-align: right;\">\n",
       "      <th></th>\n",
       "      <th>movie_id</th>\n",
       "      <th>genre_id</th>\n",
       "      <th>genre_name</th>\n",
       "    </tr>\n",
       "  </thead>\n",
       "  <tbody>\n",
       "    <tr>\n",
       "      <th>0</th>\n",
       "      <td>11036</td>\n",
       "      <td>28</td>\n",
       "      <td>Action</td>\n",
       "    </tr>\n",
       "    <tr>\n",
       "      <th>1</th>\n",
       "      <td>11036</td>\n",
       "      <td>80</td>\n",
       "      <td>Crime</td>\n",
       "    </tr>\n",
       "    <tr>\n",
       "      <th>2</th>\n",
       "      <td>11036</td>\n",
       "      <td>53</td>\n",
       "      <td>Thriller</td>\n",
       "    </tr>\n",
       "    <tr>\n",
       "      <th>3</th>\n",
       "      <td>11036</td>\n",
       "      <td>35</td>\n",
       "      <td>Comedy</td>\n",
       "    </tr>\n",
       "    <tr>\n",
       "      <th>4</th>\n",
       "      <td>104</td>\n",
       "      <td>28</td>\n",
       "      <td>Action</td>\n",
       "    </tr>\n",
       "  </tbody>\n",
       "</table>\n",
       "</div>"
      ],
      "text/plain": [
       "  movie_id genre_id genre_name\n",
       "0    11036       28     Action\n",
       "1    11036       80      Crime\n",
       "2    11036       53   Thriller\n",
       "3    11036       35     Comedy\n",
       "4      104       28     Action"
      ]
     },
     "execution_count": 13,
     "metadata": {},
     "output_type": "execute_result"
    }
   ],
   "source": [
    "#create genre dataframe\n",
    "genres_df = pd.DataFrame(columns=['movie_id','genre_id','genre_name'])\n",
    "for movie_id in movie_ids:\n",
    "    genre_info = all_movies_df['genres'][all_movies_df.index[all_movies_df['movie_id'] == 573435].tolist()[0]]\n",
    "    for i in range(len(genre_info)):\n",
    "        genre_id = genre_info[i]['id']\n",
    "        genre_name = genre_info[i]['name']\n",
    "        temp_df = [{'movie_id': movie_id, 'genre_id': genre_id, 'genre_name' : genre_name}]\n",
    "        genres_df = genres_df._append(temp_df, ignore_index = True)\n",
    "genres_df.head()"
   ]
  },
  {
   "cell_type": "markdown",
   "id": "876d1acb",
   "metadata": {},
   "source": [
    "## 5. Clean The Movie Info Dataframe:"
   ]
  },
  {
   "cell_type": "code",
   "execution_count": 14,
   "id": "e7d10aa9",
   "metadata": {
    "scrolled": true
   },
   "outputs": [
    {
     "data": {
      "text/html": [
       "<div>\n",
       "<style scoped>\n",
       "    .dataframe tbody tr th:only-of-type {\n",
       "        vertical-align: middle;\n",
       "    }\n",
       "\n",
       "    .dataframe tbody tr th {\n",
       "        vertical-align: top;\n",
       "    }\n",
       "\n",
       "    .dataframe thead th {\n",
       "        text-align: right;\n",
       "    }\n",
       "</style>\n",
       "<table border=\"1\" class=\"dataframe\">\n",
       "  <thead>\n",
       "    <tr style=\"text-align: right;\">\n",
       "      <th></th>\n",
       "      <th>movie_id</th>\n",
       "      <th>title</th>\n",
       "      <th>runtime</th>\n",
       "      <th>sexiness_score</th>\n",
       "      <th>original_language</th>\n",
       "      <th>overview</th>\n",
       "      <th>popularity</th>\n",
       "      <th>release_date</th>\n",
       "      <th>vote_average</th>\n",
       "      <th>vote_count</th>\n",
       "      <th>budget</th>\n",
       "      <th>revenue</th>\n",
       "    </tr>\n",
       "  </thead>\n",
       "  <tbody>\n",
       "    <tr>\n",
       "      <th>0</th>\n",
       "      <td>104</td>\n",
       "      <td>Run Lola Run</td>\n",
       "      <td>81</td>\n",
       "      <td>0.562269</td>\n",
       "      <td>de</td>\n",
       "      <td>Lola receives a phone call from her boyfriend ...</td>\n",
       "      <td>163.296</td>\n",
       "      <td>1998-08-20</td>\n",
       "      <td>7.300</td>\n",
       "      <td>2174</td>\n",
       "      <td>1530000</td>\n",
       "      <td>7656558</td>\n",
       "    </tr>\n",
       "    <tr>\n",
       "      <th>1</th>\n",
       "      <td>11036</td>\n",
       "      <td>The Notebook</td>\n",
       "      <td>123</td>\n",
       "      <td>0.785437</td>\n",
       "      <td>en</td>\n",
       "      <td>An epic love story centered around an older ma...</td>\n",
       "      <td>163.727</td>\n",
       "      <td>2004-06-25</td>\n",
       "      <td>7.890</td>\n",
       "      <td>11295</td>\n",
       "      <td>29000000</td>\n",
       "      <td>115600000</td>\n",
       "    </tr>\n",
       "    <tr>\n",
       "      <th>2</th>\n",
       "      <td>102382</td>\n",
       "      <td>The Amazing Spider-Man 2</td>\n",
       "      <td>141</td>\n",
       "      <td>0.720029</td>\n",
       "      <td>en</td>\n",
       "      <td>For Peter Parker, life is busy. Between taking...</td>\n",
       "      <td>162.857</td>\n",
       "      <td>2014-04-16</td>\n",
       "      <td>6.509</td>\n",
       "      <td>13008</td>\n",
       "      <td>200000000</td>\n",
       "      <td>708962323</td>\n",
       "    </tr>\n",
       "    <tr>\n",
       "      <th>3</th>\n",
       "      <td>566525</td>\n",
       "      <td>Shang-Chi and the Legend of the Ten Rings</td>\n",
       "      <td>132</td>\n",
       "      <td>0.857628</td>\n",
       "      <td>en</td>\n",
       "      <td>Shang-Chi must confront the past he thought he...</td>\n",
       "      <td>162.812</td>\n",
       "      <td>2021-09-01</td>\n",
       "      <td>7.550</td>\n",
       "      <td>9188</td>\n",
       "      <td>150000000</td>\n",
       "      <td>432243292</td>\n",
       "    </tr>\n",
       "    <tr>\n",
       "      <th>4</th>\n",
       "      <td>766507</td>\n",
       "      <td>Prey</td>\n",
       "      <td>100</td>\n",
       "      <td>0.685608</td>\n",
       "      <td>en</td>\n",
       "      <td>When danger threatens her camp, the fierce and...</td>\n",
       "      <td>160.800</td>\n",
       "      <td>2022-08-02</td>\n",
       "      <td>7.700</td>\n",
       "      <td>6471</td>\n",
       "      <td>65000000</td>\n",
       "      <td>0</td>\n",
       "    </tr>\n",
       "  </tbody>\n",
       "</table>\n",
       "</div>"
      ],
      "text/plain": [
       "   movie_id                                      title  runtime  \\\n",
       "0       104                               Run Lola Run       81   \n",
       "1     11036                               The Notebook      123   \n",
       "2    102382                   The Amazing Spider-Man 2      141   \n",
       "3    566525  Shang-Chi and the Legend of the Ten Rings      132   \n",
       "4    766507                                       Prey      100   \n",
       "\n",
       "   sexiness_score original_language  \\\n",
       "0        0.562269                de   \n",
       "1        0.785437                en   \n",
       "2        0.720029                en   \n",
       "3        0.857628                en   \n",
       "4        0.685608                en   \n",
       "\n",
       "                                            overview  popularity release_date  \\\n",
       "0  Lola receives a phone call from her boyfriend ...     163.296   1998-08-20   \n",
       "1  An epic love story centered around an older ma...     163.727   2004-06-25   \n",
       "2  For Peter Parker, life is busy. Between taking...     162.857   2014-04-16   \n",
       "3  Shang-Chi must confront the past he thought he...     162.812   2021-09-01   \n",
       "4  When danger threatens her camp, the fierce and...     160.800   2022-08-02   \n",
       "\n",
       "   vote_average  vote_count     budget    revenue  \n",
       "0         7.300        2174    1530000    7656558  \n",
       "1         7.890       11295   29000000  115600000  \n",
       "2         6.509       13008  200000000  708962323  \n",
       "3         7.550        9188  150000000  432243292  \n",
       "4         7.700        6471   65000000          0  "
      ]
     },
     "execution_count": 14,
     "metadata": {},
     "output_type": "execute_result"
    }
   ],
   "source": [
    "#eliminate unnecessary columns and reorder columns in all_movies_df\n",
    "important_columns = [ 'movie_id','title', 'runtime', 'sexiness_score', 'original_language',  'overview', 'popularity', 'release_date', 'vote_average', 'vote_count','budget','revenue']\n",
    "all_movies_df = all_movies_df.loc[:, all_movies_df.columns.isin(important_columns)]\n",
    "all_movies_df = all_movies_df.reindex(columns=important_columns)\n",
    "all_movies_df.head()"
   ]
  },
  {
   "cell_type": "code",
   "execution_count": 15,
   "id": "17634397",
   "metadata": {},
   "outputs": [],
   "source": [
    "#change movie_id data type to object\n",
    "all_movies_df['movie_id'] = all_movies_df['movie_id'].astype(object)"
   ]
  },
  {
   "cell_type": "markdown",
   "id": "bd43a42a",
   "metadata": {},
   "source": [
    "## 6. Connect and Send Dataframes to Postgres Database:"
   ]
  },
  {
   "cell_type": "code",
   "execution_count": 23,
   "id": "66ffa412",
   "metadata": {},
   "outputs": [],
   "source": [
    "# SQL database properties\n",
    "hostname = 'localhost'\n",
    "database = 'StreamingDatabase'\n",
    "username = 'postgres'\n",
    "pwd = ''\n",
    "port_id = '5433'"
   ]
  },
  {
   "cell_type": "code",
   "execution_count": 24,
   "id": "0ee52537",
   "metadata": {},
   "outputs": [],
   "source": [
    "# connect to postgres database\n",
    "conn = psycopg2.connect(\n",
    "                    host = hostname,\n",
    "                    dbname = database,\n",
    "                    user = username,\n",
    "                    password = pwd,\n",
    "                    port = port_id)\n",
    "cur = conn.cursor()"
   ]
  },
  {
   "cell_type": "code",
   "execution_count": 25,
   "id": "d2be691f",
   "metadata": {},
   "outputs": [],
   "source": [
    "#function to send dfs to postgres\n",
    "def df_to_sql(df, table_name):\n",
    "    engine = create_engine('postgresql://' + username + ':' + pwd + '@' + hostname + ':' + port_id + '/' + database, echo = False)\n",
    "    df.to_sql(name = table_name, con = engine, if_exists = 'replace', index = False)\n",
    "    engine.dispose()"
   ]
  },
  {
   "cell_type": "code",
   "execution_count": 26,
   "id": "c9de1492",
   "metadata": {},
   "outputs": [],
   "source": [
    "# delete dependent view\n",
    "delete_view = ''' DROP VIEW IF EXISTS streaming_info_view'''\n",
    "cur.execute(delete_view)\n",
    "conn.commit()"
   ]
  },
  {
   "cell_type": "code",
   "execution_count": 27,
   "id": "70b08461",
   "metadata": {},
   "outputs": [],
   "source": [
    "#send the dfs to postgres database\n",
    "df_to_sql(all_movies_df, 'popular_movies')\n",
    "df_to_sql(streaming_df, 'streaming_availability')\n",
    "df_to_sql(genres_df, 'genres')"
   ]
  },
  {
   "cell_type": "code",
   "execution_count": 28,
   "id": "5d7336c3",
   "metadata": {},
   "outputs": [],
   "source": [
    "#create view\n",
    "create_view = '''CREATE VIEW streaming_info_view AS \n",
    "                 SELECT s.movie_id, watch_region, streaming_provider, sexiness_score, title, original_language, release_date, overview\n",
    "                 FROM streaming_availability as s \n",
    "                 LEFT JOIN popular_movies as p \n",
    "                 ON s.movie_id = p.movie_id'''\n",
    "cur.execute(create_view)\n",
    "conn.commit()"
   ]
  },
  {
   "cell_type": "code",
   "execution_count": 29,
   "id": "b6d96139",
   "metadata": {},
   "outputs": [],
   "source": [
    "# close out connections\n",
    "cur.close()\n",
    "conn.close()"
   ]
  }
 ],
 "metadata": {
  "kernelspec": {
   "display_name": "Python 3 (ipykernel)",
   "language": "python",
   "name": "python3"
  },
  "language_info": {
   "codemirror_mode": {
    "name": "ipython",
    "version": 3
   },
   "file_extension": ".py",
   "mimetype": "text/x-python",
   "name": "python",
   "nbconvert_exporter": "python",
   "pygments_lexer": "ipython3",
   "version": "3.10.5"
  }
 },
 "nbformat": 4,
 "nbformat_minor": 5
}
